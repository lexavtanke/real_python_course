{
 "cells": [
  {
   "cell_type": "code",
   "execution_count": null,
   "metadata": {},
   "outputs": [],
   "source": [
    "user_input = input(\"Enter some text:\")\n",
    "user_input = user_input.replace(\"a\", \"4\")\n",
    "user_input = user_input.replace(\"b\", \"8\")\n",
    "user_input = user_input.replace(\"e\", \"3\")\n",
    "user_input = user_input.replace(\"l\", \"1\")\n",
    "user_input = user_input.replace(\"o\", \"0\")\n",
    "user_input = user_input.replace(\"s\", \"5\")\n",
    "user_input = user_input.replace(\"t\", \"7\")\n",
    "print(user_input)"
   ]
  },
  {
   "cell_type": "code",
   "execution_count": null,
   "metadata": {},
   "outputs": [],
   "source": []
  }
 ],
 "metadata": {
  "kernelspec": {
   "display_name": "Python 3",
   "language": "python",
   "name": "python3"
  },
  "language_info": {
   "codemirror_mode": {
    "name": "ipython",
    "version": 3
   },
   "file_extension": ".py",
   "mimetype": "text/x-python",
   "name": "python",
   "nbconvert_exporter": "python",
   "pygments_lexer": "ipython3",
   "version": "3.7.0"
  }
 },
 "nbformat": 4,
 "nbformat_minor": 2
}
