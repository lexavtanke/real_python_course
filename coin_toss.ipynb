{
 "cells": [
  {
   "cell_type": "markdown",
   "metadata": {},
   "source": [
    "Write a script “coin_toss.py” that uses coin toss simulations to determine the\n",
    "answer to this slightly more complex probability puzzle:\n",
    "I keep flipping a fair coin until I've seen it land on both heads and tails at least\n",
    "once each – in other words, after I flip the coin the first time, I continue to flip it\n",
    "until I get a different result. On average, how many times will I have to flip the coin\n",
    "total?\n",
    "Again, the actual probability could be worked out, but the point here is to simulate\n",
    "the event using randint(). To get the expected average number of tosses, you\n",
    "should set a variable trials = 10000 and a variable flip = 0, then add 1 to\n",
    "your flips variable every time a coin toss is made. Then you can print flips /\n",
    "trials at the end of the code to see what the average number of flips was."
   ]
  },
  {
   "cell_type": "code",
   "execution_count": 9,
   "metadata": {},
   "outputs": [
    {
     "name": "stdout",
     "output_type": "stream",
     "text": [
      "2.0047\n"
     ]
    }
   ],
   "source": [
    "from random import randint\n",
    "\n",
    "\n",
    "trails = 10000\n",
    "counter = 0\n",
    "for i in range(trails):\n",
    "    \n",
    "    first_flip = randint(0, 1)\n",
    "    counter += 1 \n",
    "    while first_flip != randint(0,1):\n",
    "        counter += 1\n",
    "\n",
    "print(counter / trails)"
   ]
  },
  {
   "cell_type": "code",
   "execution_count": null,
   "metadata": {},
   "outputs": [],
   "source": []
  },
  {
   "cell_type": "code",
   "execution_count": null,
   "metadata": {},
   "outputs": [],
   "source": []
  }
 ],
 "metadata": {
  "kernelspec": {
   "display_name": "Python 3",
   "language": "python",
   "name": "python3"
  },
  "language_info": {
   "codemirror_mode": {
    "name": "ipython",
    "version": 3
   },
   "file_extension": ".py",
   "mimetype": "text/x-python",
   "name": "python",
   "nbconvert_exporter": "python",
   "pygments_lexer": "ipython3",
   "version": "3.7.0"
  }
 },
 "nbformat": 4,
 "nbformat_minor": 2
}
