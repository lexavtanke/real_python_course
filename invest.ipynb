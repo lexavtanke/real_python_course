{
 "cells": [
  {
   "cell_type": "code",
   "execution_count": 16,
   "metadata": {},
   "outputs": [],
   "source": [
    "def invest(amount, rate, time):\n",
    "    print(\"principal amount: ${}\".format(str(amount)))\n",
    "    print(\"annual rate of return: {}\".format(str(rate)))\n",
    "    amount_by_period = amount\n",
    "    for i in range(1, time + 1):\n",
    "        amount_by_period = amount_by_period * (1 + rate)\n",
    "        print(\"year {}: ${}\".format(i, str(round(amount_by_period, 3))))\n",
    "    print()"
   ]
  },
  {
   "cell_type": "code",
   "execution_count": 17,
   "metadata": {
    "scrolled": true
   },
   "outputs": [
    {
     "name": "stdout",
     "output_type": "stream",
     "text": [
      "principal amount: $100\n",
      "annual rate of return: 0.05\n",
      "year 1: $105.0\n",
      "year 2: $110.25\n",
      "year 3: $115.763\n",
      "year 4: $121.551\n",
      "year 5: $127.628\n",
      "year 6: $134.01\n",
      "year 7: $140.71\n",
      "year 8: $147.746\n",
      "\n",
      "principal amount: $2000\n",
      "annual rate of return: 0.025\n",
      "year 1: $2050.0\n",
      "year 2: $2101.25\n",
      "year 3: $2153.781\n",
      "year 4: $2207.626\n",
      "year 5: $2262.816\n",
      "\n"
     ]
    }
   ],
   "source": [
    "invest(100, 0.05, 8)\n",
    "invest(2000, 0.025, 5)"
   ]
  },
  {
   "cell_type": "code",
   "execution_count": null,
   "metadata": {},
   "outputs": [],
   "source": []
  }
 ],
 "metadata": {
  "kernelspec": {
   "display_name": "Python 3",
   "language": "python",
   "name": "python3"
  },
  "language_info": {
   "codemirror_mode": {
    "name": "ipython",
    "version": 3
   },
   "file_extension": ".py",
   "mimetype": "text/x-python",
   "name": "python",
   "nbconvert_exporter": "python",
   "pygments_lexer": "ipython3",
   "version": "3.7.0"
  }
 },
 "nbformat": 4,
 "nbformat_minor": 2
}
