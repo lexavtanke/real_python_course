{
 "cells": [
  {
   "cell_type": "code",
   "execution_count": null,
   "metadata": {},
   "outputs": [],
   "source": [
    "Phrase = \"Hello world\"\n",
    "print(Phrase)\n",
    "print(\"Hello world\")"
   ]
  },
  {
   "cell_type": "code",
   "execution_count": null,
   "metadata": {},
   "outputs": [],
   "source": [
    "long_string = \"\"\" it is spme very \n",
    "\n",
    "vvery long string\"\"\"\n",
    "\n",
    "print(long_string)"
   ]
  },
  {
   "cell_type": "code",
   "execution_count": null,
   "metadata": {},
   "outputs": [],
   "source": [
    "some_long_string = \"{df} it is \\\n",
    "some vvery long string\".format(df = \"AN\")\n",
    "print(some_long_string)"
   ]
  },
  {
   "cell_type": "code",
   "execution_count": null,
   "metadata": {},
   "outputs": [],
   "source": [
    "print('some interesting string with \"something\" inside \"\"')"
   ]
  },
  {
   "cell_type": "code",
   "execution_count": null,
   "metadata": {},
   "outputs": [],
   "source": [
    "print(\"some string with '' inside\")"
   ]
  },
  {
   "cell_type": "code",
   "execution_count": null,
   "metadata": {},
   "outputs": [],
   "source": [
    "myString = \"something\"\n",
    "myString[0] = \"f\" # this will not work"
   ]
  },
  {
   "cell_type": "code",
   "execution_count": null,
   "metadata": {},
   "outputs": [],
   "source": [
    "print(len(some_long_string))\n"
   ]
  },
  {
   "cell_type": "code",
   "execution_count": null,
   "metadata": {},
   "outputs": [],
   "source": [
    "bagin = \"bazinga\"\n",
    "print(bagin[2:6])"
   ]
  },
  {
   "cell_type": "code",
   "execution_count": null,
   "metadata": {},
   "outputs": [],
   "source": [
    "loudVoice = \"can you hear me?\"\n",
    "\n",
    "print(loudVoice.upper())\n"
   ]
  },
  {
   "cell_type": "code",
   "execution_count": null,
   "metadata": {},
   "outputs": [],
   "source": [
    "userInput = input(\"Hey, what's up?\")\n",
    "print(\"You said:\", userInput)"
   ]
  },
  {
   "cell_type": "code",
   "execution_count": null,
   "metadata": {},
   "outputs": [],
   "source": [
    "my_string = \"kEfisHUFfle\"\n",
    "\n",
    "print(my_string.lower())"
   ]
  },
  {
   "cell_type": "code",
   "execution_count": null,
   "metadata": {},
   "outputs": [],
   "source": [
    "some_int_string = \"123\"\n",
    "some_int_from_string = int(some_int_string)\n",
    "print(some_int_from_string * 3)"
   ]
  },
  {
   "cell_type": "code",
   "execution_count": null,
   "metadata": {},
   "outputs": [],
   "source": [
    "some_float_string = \"42.2\"\n",
    "some_float_from_string = float(some_float_string)\n",
    "print(some_float_from_string * 2)"
   ]
  },
  {
   "cell_type": "code",
   "execution_count": null,
   "metadata": {},
   "outputs": [],
   "source": [
    "print(str(some_float_from_string), str(some_int_from_string))"
   ]
  },
  {
   "cell_type": "code",
   "execution_count": null,
   "metadata": {},
   "outputs": [],
   "source": [
    "name = \"Zaphod\"\n",
    "numHeadas = 2\n",
    "numArms = 3\n",
    "print(\"{} has {} arms and {} heads\".format(name, numArms, numHeadas))"
   ]
  },
  {
   "cell_type": "code",
   "execution_count": null,
   "metadata": {},
   "outputs": [],
   "source": [
    "weight = 0.2\n",
    "animal = \"newt\"\n",
    "print(weight, \"kg is the weight of the\", animal)\n",
    "print(\"{} kg is the weight of the {}\".format(weight, animal))\n",
    "print(\"{0} kg is the weight of the {1}\".format(weight, animal))\n",
    "print(\"{weight} kg is the weight of the {animal}\".format(animal = \"newt\", weight = 0.2))\n",
    "print(\"{weight} kg is the weight of the {animal}\".format(animal, weight)) # it does not work"
   ]
  },
  {
   "cell_type": "code",
   "execution_count": null,
   "metadata": {},
   "outputs": [],
   "source": [
    "phrase = \"the surprise is in here somewhere\"\n",
    "print(phrase.find(\"surprise\"))\n",
    "print(phrase.find(\"Sur\"))"
   ]
  },
  {
   "cell_type": "code",
   "execution_count": null,
   "metadata": {},
   "outputs": [],
   "source": [
    "myStory = \"I'm telling you the truth; he spoke nothing but the truth!\"\n",
    "print(myStory.replace(\"the truth\", \"lies\"))"
   ]
  },
  {
   "cell_type": "code",
   "execution_count": null,
   "metadata": {},
   "outputs": [],
   "source": [
    "ver_str = \"version 2.0\"\n",
    "float_ver = 2.0 \n",
    "print(ver_str.find(str(float_ver)))\n",
    "print(ver_str.find(str(2.0)))"
   ]
  },
  {
   "cell_type": "code",
   "execution_count": null,
   "metadata": {},
   "outputs": [],
   "source": [
    "print(\"1 / 2 = \", 1 // 2)\n",
    "print(\"1 / 2 = \", 1 / 2)"
   ]
  },
  {
   "cell_type": "code",
   "execution_count": null,
   "metadata": {},
   "outputs": [],
   "source": [
    "def returnDifference(n1, n2):\n",
    "    '''Return the difference between two numbers.\n",
    "    Subtracts n2 from n1.'''\n",
    "    return n1 - n2"
   ]
  },
  {
   "cell_type": "code",
   "execution_count": null,
   "metadata": {},
   "outputs": [],
   "source": [
    "help(returnDifference)"
   ]
  },
  {
   "cell_type": "code",
   "execution_count": null,
   "metadata": {},
   "outputs": [],
   "source": [
    "help(print)"
   ]
  },
  {
   "cell_type": "code",
   "execution_count": null,
   "metadata": {},
   "outputs": [],
   "source": [
    "def cube(n1):\n",
    "    return n1 * n1 * n1\n",
    "\n",
    "print(cube(8)) \n",
    "print(cube(2))\n",
    "print(cube(6)) "
   ]
  },
  {
   "cell_type": "code",
   "execution_count": null,
   "metadata": {},
   "outputs": [],
   "source": [
    "def multiply(n1, n2):\n",
    "    return n1 * n2\n",
    "\n",
    "some_multiply_result = multiply(2, 5)\n",
    "print(\"result 2 * 5 =\", some_multiply_result)\n",
    "print(\"type of result\", type(some_multiply_result))\n",
    "some_float_multiply_result = multiply(2.0, 5)\n",
    "print(\"result 2.0 * 5 =\", some_float_multiply_result)\n",
    "print(\"type of result\", type(some_float_multiply_result))"
   ]
  },
  {
   "cell_type": "code",
   "execution_count": null,
   "metadata": {},
   "outputs": [],
   "source": [
    "n = 1\n",
    "while (n <= 5):\n",
    "    print(\"n = \", n)\n",
    "    n += 1\n",
    "print(\"Loop finished!\")"
   ]
  },
  {
   "cell_type": "code",
   "execution_count": null,
   "metadata": {},
   "outputs": [],
   "source": [
    "for i in range(1, 5):\n",
    "    print(\"n =\", i)\n",
    "print(\"Loop finished!\")"
   ]
  },
  {
   "cell_type": "code",
   "execution_count": null,
   "metadata": {},
   "outputs": [],
   "source": [
    "for n in range(1, 4):\n",
    "    for j in [\"a\", \"b\", \"c\", \"d\"]:\n",
    "        print(\"n =\", n, \"and j =\", j)"
   ]
  },
  {
   "cell_type": "code",
   "execution_count": null,
   "metadata": {},
   "outputs": [],
   "source": [
    "def doubles(num_to_double):\n",
    "    buff = num_to_double\n",
    "    for i in range(1, 4):\n",
    "        buff = buff * 2\n",
    "        print(buff)\n",
    "doubles(2)\n",
    "doubles(3)"
   ]
  },
  {
   "cell_type": "code",
   "execution_count": null,
   "metadata": {},
   "outputs": [],
   "source": [
    "1 <= 1"
   ]
  },
  {
   "cell_type": "code",
   "execution_count": null,
   "metadata": {},
   "outputs": [],
   "source": [
    "1 != 1"
   ]
  },
  {
   "cell_type": "code",
   "execution_count": null,
   "metadata": {},
   "outputs": [],
   "source": [
    "\"good\" != \"bad\""
   ]
  },
  {
   "cell_type": "code",
   "execution_count": null,
   "metadata": {},
   "outputs": [],
   "source": [
    "123 == \"123\""
   ]
  },
  {
   "cell_type": "code",
   "execution_count": null,
   "metadata": {},
   "outputs": [],
   "source": [
    "phrase = \"it marks the spot\"\n",
    "for letter in phrase:\n",
    "    if letter == \"X\":\n",
    "        break\n",
    "else:\n",
    "    print(\"There was no 'X' in phrase\")"
   ]
  },
  {
   "cell_type": "code",
   "execution_count": null,
   "metadata": {},
   "outputs": [],
   "source": [
    "tries = 0 \n",
    "while tries < 3:\n",
    "    password = input(\"Password: \")\n",
    "    if password == \"I<3Bieber\":\n",
    "        break\n",
    "    else:\n",
    "        tries += 1\n",
    "else:\n",
    "    print(\"Suspicious activity. The authorities have been alerted.\")"
   ]
  },
  {
   "cell_type": "code",
   "execution_count": null,
   "metadata": {},
   "outputs": [],
   "source": [
    "while True:\n",
    "    user_input_for_quit = input(\"Input q or Q to quit the program: \")\n",
    "    if user_input_for_quit == \"q\" or user_input_for_quit == \"Q\":\n",
    "        break"
   ]
  },
  {
   "cell_type": "code",
   "execution_count": null,
   "metadata": {},
   "outputs": [],
   "source": [
    "for i in range(1, 50):\n",
    "    if i % 3 == 0:\n",
    "        continue\n",
    "    else:\n",
    "        print(i)"
   ]
  },
  {
   "cell_type": "code",
   "execution_count": null,
   "metadata": {},
   "outputs": [],
   "source": [
    "while True:\n",
    "    try:\n",
    "        user_input_integer = int(input('Input integer: '))\n",
    "        print(\"your integer is {}\".format(user_input_integer))\n",
    "        break\n",
    "    except ValueError:\n",
    "        print(\"try again\")\n",
    "        \n",
    "    "
   ]
  },
  {
   "cell_type": "markdown",
   "metadata": {},
   "source": [
    "### 5.6) Simulate events and calculate probabilities"
   ]
  },
  {
   "cell_type": "code",
   "execution_count": null,
   "metadata": {},
   "outputs": [],
   "source": [
    "from random import randint\n",
    "\n",
    "tails = 0\n",
    "heads = 0\n",
    "\n",
    "for trials in range(1, 10000):\n",
    "    while randint(0, 1) == 0:\n",
    "        tails += 1\n",
    "    heads += 1\n",
    "print(\"{} heads, {} tails were in \"{})\n",
    "print(\"heads / tails =\", heads / tails)"
   ]
  },
  {
   "cell_type": "markdown",
   "metadata": {},
   "source": [
    "Write a script that uses the randint() function to simulate the toss of a\n",
    "die, returning a random number between 1 and 6"
   ]
  },
  {
   "cell_type": "code",
   "execution_count": null,
   "metadata": {},
   "outputs": [],
   "source": [
    "from random import randint\n",
    "\n",
    "def tos_die(n_faces):\n",
    "    '''function for simulating the toss of a die with n faces'''\n",
    "    return randint(1, n_faces)\n",
    "\n"
   ]
  },
  {
   "cell_type": "code",
   "execution_count": null,
   "metadata": {},
   "outputs": [],
   "source": [
    "rand_int = tos_die(5)\n",
    "print(rand_int)\n",
    "print(tos_die(5))\n",
    "print(randint(1,6))"
   ]
  },
  {
   "cell_type": "markdown",
   "metadata": {},
   "source": [
    "Write a script that simulates 10,000 throws of dice and displays the average\n",
    "number resulting from these tosses"
   ]
  },
  {
   "cell_type": "code",
   "execution_count": null,
   "metadata": {},
   "outputs": [],
   "source": [
    "buff = 0 \n",
    "for i in range(1, 10000):\n",
    "    buff += tos_die(6)\n",
    "print(buff)\n",
    "ave_num_of_throws = buff / 10000\n",
    "print(\" float average number of 10000 throws:\", ave_num_of_throws)"
   ]
  },
  {
   "cell_type": "markdown",
   "metadata": {},
   "source": [
    "## 6) Fundamentals: Lists and Dictionaries"
   ]
  },
  {
   "cell_type": "markdown",
   "metadata": {},
   "source": [
    "### 6.1) Make and update lists"
   ]
  },
  {
   "cell_type": "markdown",
   "metadata": {},
   "source": [
    "–\n",
    "Create a list named desserts that holds the two string values “ice cream”\n",
    "and “cookies”  \n",
    "– Sort the desserts in alphabetical order, then display the contents of the list  \n",
    "– Display the index number of “ice cream” in the desserts list  \n",
    "– Copy the contents of the desserts list into a new list object named food  \n",
    "– Add the strings “broccoli” and “turnips” to the food list  \n",
    "– Display the contents of both lists to make sure that “broccoli” and\n",
    "“turnips” haven't been added to desserts  \n",
    "– Remove “cookies” from the food list  \n",
    "– Display the first two items in the food list by specifying an index range  \n",
    "– Create a list named breakfast that holds three strings, each with the value   \n",
    "of “cookies”, by splitting up the string “cookies, cookies, cookies”"
   ]
  },
  {
   "cell_type": "code",
   "execution_count": null,
   "metadata": {},
   "outputs": [],
   "source": [
    "desserts = [\"ice cream\", \"cookies\"]\n",
    "desserts.sort()\n",
    "print(desserts)\n",
    "print(desserts.index(\"ice cream\"))\n",
    "food = desserts[:]\n",
    "food.append(\"broccoli\")\n",
    "food.append(\"turnips\")\n",
    "print(desserts)\n",
    "print(food)\n",
    "food.remove(\"cookies\")\n",
    "print(food[0:2])\n",
    "print(food)"
   ]
  },
  {
   "cell_type": "markdown",
   "metadata": {},
   "source": [
    "## 6.2) Make permanent lists"
   ]
  },
  {
   "cell_type": "markdown",
   "metadata": {},
   "source": [
    "–\n",
    "Create a tuple named cardinal_nums that holds the strings “first”,\n",
    "“second” and “third” in order  \n",
    "– Display the string at position 2 in cardinal_nums by using an index number  \n",
    "– Copy the tuple values into three new strings named pos1, pos2 and pos3 in\n",
    "a single line of code by using tuple unpacking, then print those string values"
   ]
  },
  {
   "cell_type": "code",
   "execution_count": null,
   "metadata": {},
   "outputs": [],
   "source": [
    "cardinal_nums = \"first\", \"second\", \"third\"\n",
    "print(\"second in cardinal_nums:\",cardinal_nums[1])\n",
    "pos1, pos2, pos3 = cardinal_nums\n",
    "print(pos1, pos2, pos3)"
   ]
  },
  {
   "cell_type": "markdown",
   "metadata": {},
   "source": [
    "## 6.3) Store relationships in dictionaries"
   ]
  },
  {
   "cell_type": "markdown",
   "metadata": {},
   "source": [
    "– Create an empty dictionary named birthdays  \n",
    "– Enter the following data into the dictionary:  \n",
    "'Luke Skywalker': '5/24/19'  \n",
    "'Obi-Wan Kenobi': '3/11/57'  \n",
    "'Darth Vader': '4/1/41'  \n",
    "–\n",
    "Write if statements that test to check if 'Yoda' and 'Darth Vader' exist as keys\n",
    "in the dictionary, then enter each of them with birthday value 'unknown' if\n",
    "their name does not exist as a key  \n",
    "–\n",
    "Display all the key-value pairs in the dictionary, one per line with a space\n",
    "between the name and the birthday, by looping over the dictionary's keys  \n",
    "– Delete 'Darth Vader' from the dictionary  \n",
    "– Bonus: Make the same dictionary by using dict() and passing in the initial\n",
    "values when you first create the dictionary"
   ]
  },
  {
   "cell_type": "code",
   "execution_count": null,
   "metadata": {},
   "outputs": [],
   "source": [
    "birthdays = {}\n",
    "birthdays[\"Luke Skywalker\"] = \"5/24/19\"\n",
    "birthdays[\"Obi-Wan Kenobi\"] = \"3/11/57\"\n",
    "birthdays[\"Darth Vader\"] = \"4/1/41\"\n",
    "\n",
    "if not \"Yoda\" in birthdays:\n",
    "    birthdays[\"Yoda\"] =  \"unknown\"\n",
    "\n",
    "if not \"Darth Vader\" in birthdays:\n",
    "    birthdays[\"Darth Vader\"] = \"unknown\"\n",
    "    \n",
    "print(\"dict birthdays consists of:\")\n",
    "for name in birthdays:\n",
    "    print(name, birthdays[name])\n",
    "\n",
    "del(birthdays[\"Darth Vader\"])    \n"
   ]
  },
  {
   "cell_type": "code",
   "execution_count": null,
   "metadata": {},
   "outputs": [],
   "source": [
    "birthdays1 = dict([(\"Luke Skywalker\", \"5/24/19\"), (\"Obi-Van Kenobi\", \"3/11/57\")])\n",
    "print(\"dict birthdays1 consists of:\")\n",
    "for name in birthdays1:\n",
    "    print(name, birthdays1[name])"
   ]
  },
  {
   "cell_type": "markdown",
   "metadata": {},
   "source": [
    "## 7) File Input and Output\n"
   ]
  },
  {
   "cell_type": "markdown",
   "metadata": {},
   "source": [
    "### 7.1) Read and write simple files\n"
   ]
  },
  {
   "cell_type": "markdown",
   "metadata": {},
   "source": [
    "### 7.2) Use more complicated folder structures\\"
   ]
  },
  {
   "cell_type": "code",
   "execution_count": null,
   "metadata": {},
   "outputs": [],
   "source": [
    "import os \n",
    "myPath = \"/home/alexpc/RL-learn/book1-exercises/chp09/practice_files\"\n",
    "inputFileName = os.path.join(myPath, \"example.txt\")\n",
    "with open(inputFileName, \"r\") as myInputFile:\n",
    "    for line in myInputFile.readlines():\n",
    "        print(line, end =\"\")"
   ]
  },
  {
   "cell_type": "code",
   "execution_count": null,
   "metadata": {},
   "outputs": [],
   "source": [
    "import os \n",
    "myPath = \"/home/alexpc/RL-learn/book1-exercises/chp09/practice_files/images\"\n",
    "#get a list of all files and folders\n",
    "fileNamesList = os.listdir(myPath)\n",
    "#loop over every file in the main folder\n",
    "for fileName in fileNamesList:\n",
    "    if fileName.lower().endswith(\".gif\"): # extension matches a gif file\n",
    "        print(\"Converting '{}' to JPG...\".format(fileName))\n",
    "        # get full path name and change the \".gif\" to \".jpg\"\n",
    "        fullFileName = os.path.join(myPath, fileName)\n",
    "        newFileName = fullFileName[0:len(fullFileName)- 4] + \".jpg\"\n",
    "        os.rename(fullFileName, newFileName)\n"
   ]
  },
  {
   "cell_type": "code",
   "execution_count": null,
   "metadata": {},
   "outputs": [],
   "source": [
    "import glob\n",
    "import os\n",
    "myPath = \"/home/alexpc/RL-learn/book1-exercises/chp09/practice_files/images\"\n",
    "possibleFiles = os.path.join(myPath, \"*.gif\")\n",
    "for fileName in glob.glob(possibleFiles):\n",
    "    print(\"Converting '{}' to JPG...\".format(fileName))\n",
    "    fullFileName = os.path.join(myPath, fileName)\n",
    "    newFileName_tuple = os.path.splitext(fullFileName)\n",
    "    print(newFileName_tuple)\n",
    "    newFileName = newFileName_tuple[0] + \".jpg\"\n",
    "    os.rename(fullFileName, newFileName)"
   ]
  },
  {
   "cell_type": "code",
   "execution_count": null,
   "metadata": {},
   "outputs": [],
   "source": [
    "for currentFolder, subfolders, fileNames in os.walk(myPath):\n",
    "    for fileName in fileNames:\n",
    "        print(os.path.join(currentFolder, fileName))"
   ]
  },
  {
   "cell_type": "markdown",
   "metadata": {},
   "source": [
    "–\n",
    "Display the full paths of all of the files and folders in the images folder by\n",
    "using os.listdir()  \n",
    "–\n",
    "Display the full paths of any PNG files in the images folder by using\n",
    "glob.glob()  \n",
    "  \n"
   ]
  },
  {
   "cell_type": "code",
   "execution_count": null,
   "metadata": {},
   "outputs": [],
   "source": [
    "import os \n",
    "\n",
    "myPath = \"/home/alexpc/RL-learn/book1-exercises/chp09/practice_files/images\"\n",
    "allFilesAndFolders = os.listdir(myPath)\n",
    "print(\"the full paths of all of the files and folders in the images folder\")\n",
    "for item in allFilesAndFolders:\n",
    "    print(os.path.join(myPath, item))\n",
    "    \n",
    "import glob\n",
    "\n",
    "print(\"the full paths of any PNG files in the images folder\")\n",
    "for item in glob.glob(os.path.join(myPath, \"*.png\")):\n",
    "    print(item)"
   ]
  },
  {
   "cell_type": "markdown",
   "metadata": {},
   "source": [
    "–\n",
    "Rename any PNG files in the images folder and its subfolders to be JPG files\n",
    "by using os.walk(); in case you mess things up beyond repair, there is a\n",
    "copy of the images folder in the backup folder"
   ]
  },
  {
   "cell_type": "code",
   "execution_count": null,
   "metadata": {},
   "outputs": [],
   "source": [
    "for curFolder, subFolder, items in os.walk(myPath):\n",
    "    for item in items:   \n",
    "        if item.lower().endswith(\".png\"):\n",
    "            oldNameOfItem = os.path.splitext(os.path.join(curFolder, item))\n",
    "            print(\"now rename item '{}' in folder '{}'\".format(item, curFolder))\n",
    "            os.rename(os.path.join(curFolder, item), oldNameOfItem[0] + \".jpg\")"
   ]
  },
  {
   "cell_type": "markdown",
   "metadata": {},
   "source": [
    "–\n",
    "Make sure that your last script worked by using os.path.exists() to check\n",
    "that the files “png file – not a gif.jpg” and “/additional\n",
    "files/one last image.jpg” now exists (by providing os.path.exists() with the full path to each of these files)  "
   ]
  },
  {
   "cell_type": "code",
   "execution_count": null,
   "metadata": {},
   "outputs": [],
   "source": [
    "assert os.path.exists(os.path.join(myPath, \"png file - not a gif.jpg\")) == True\n",
    "assert os.path.exists(os.path.join(myPath, \"additional files/one last image.jpg\")) == True\n"
   ]
  },
  {
   "cell_type": "code",
   "execution_count": null,
   "metadata": {},
   "outputs": [],
   "source": [
    "for curFolder, subFolder, items in os.walk(\"/home/alexpc/RL-learn/book1-exercises/chp09/practice_files\"):\n",
    "    for item in items:\n",
    "        print(os.path.join(curFolder, item))\n",
    "    #print(curFolder)\n",
    "    #print(subFolder)\n",
    "    #print(items)\n",
    "    print('end of inner cycle')"
   ]
  },
  {
   "cell_type": "code",
   "execution_count": 3,
   "metadata": {
    "scrolled": true
   },
   "outputs": [
    {
     "name": "stdout",
     "output_type": "stream",
     "text": [
      "current folder:\n",
      "/home/alexpc/RL-learn/book1-exercises/chp09/practice_files/little pics\n",
      "in files:\n",
      "['better not delete me.txt', 'save me please.jpg']\n",
      "now i see on /home/alexpc/RL-learn/book1-exercises/chp09/practice_files/little pics/better not delete me.txt\n",
      "and it has size 6 bytes\n",
      "now i see on /home/alexpc/RL-learn/book1-exercises/chp09/practice_files/little pics/save me please.jpg\n",
      "and it has size 2069 bytes\n",
      "current folder:\n",
      "/home/alexpc/RL-learn/book1-exercises/chp09/practice_files/little pics/look in here too\n",
      "in files:\n",
      "['definitely has to go.jpg']\n",
      "now i see on /home/alexpc/RL-learn/book1-exercises/chp09/practice_files/little pics/look in here too/definitely has to go.jpg\n",
      "and it has size 1969 bytes\n",
      "now remove file /home/alexpc/RL-learn/book1-exercises/chp09/practice_files/little pics/look in here too/definitely has to go.jpg\n"
     ]
    }
   ],
   "source": [
    "import os\n",
    "\n",
    "myPath = \"/home/alexpc/RL-learn/book1-exercises/chp09/practice_files/little pics\"\n",
    "\n",
    "def del_jpg_and_small(somePath):\n",
    "    for current_folder, sub_folder, files in os.walk(somePath):\n",
    "        print(\"current folder:\")\n",
    "        print(current_folder)\n",
    "        print(\"in files:\")\n",
    "        print(files)\n",
    "        for file in files:\n",
    "            full_file_name = os.path.join(current_folder, file)\n",
    "            print(\"now i see on {}\".format(full_file_name))\n",
    "            print(\"and it has size {} bytes\".format(os.path.getsize(full_file_name)))\n",
    "            full_file_name_tuple = os.path.splitext(full_file_name)\n",
    "            if full_file_name_tuple[1] == \".jpg\" and os.path.getsize(full_file_name) <= 2000:\n",
    "                print(\"now remove file {}\".format(full_file_name))\n",
    "                os.remove(full_file_name)\n",
    "\n",
    "del_jpg_and_small(myPath)"
   ]
  },
  {
   "cell_type": "code",
   "execution_count": null,
   "metadata": {},
   "outputs": [],
   "source": []
  }
 ],
 "metadata": {
  "kernelspec": {
   "display_name": "Python 3",
   "language": "python",
   "name": "python3"
  },
  "language_info": {
   "codemirror_mode": {
    "name": "ipython",
    "version": 3
   },
   "file_extension": ".py",
   "mimetype": "text/x-python",
   "name": "python",
   "nbconvert_exporter": "python",
   "pygments_lexer": "ipython3",
   "version": "3.7.0"
  }
 },
 "nbformat": 4,
 "nbformat_minor": 2
}
