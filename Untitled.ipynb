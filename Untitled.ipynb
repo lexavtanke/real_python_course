{
 "cells": [
  {
   "cell_type": "code",
   "execution_count": 3,
   "metadata": {},
   "outputs": [
    {
     "name": "stdout",
     "output_type": "stream",
     "text": [
      "Hello world\n",
      "Hello world\n"
     ]
    }
   ],
   "source": [
    "Phrase = \"Hello world\"\n",
    "print(Phrase)\n",
    "print(\"Hello world\")"
   ]
  },
  {
   "cell_type": "code",
   "execution_count": 4,
   "metadata": {},
   "outputs": [
    {
     "name": "stdout",
     "output_type": "stream",
     "text": [
      " it is spme very \n",
      "\n",
      "vvery long string\n"
     ]
    }
   ],
   "source": [
    "long_string = \"\"\" it is spme very \n",
    "\n",
    "vvery long string\"\"\"\n",
    "\n",
    "print(long_string)"
   ]
  },
  {
   "cell_type": "code",
   "execution_count": 10,
   "metadata": {},
   "outputs": [
    {
     "name": "stdout",
     "output_type": "stream",
     "text": [
      " it is some vvery long string\n"
     ]
    }
   ],
   "source": [
    "some_long_string = ' it is \\\n",
    "some vvery long string'\n",
    "print(some_long_string)"
   ]
  },
  {
   "cell_type": "code",
   "execution_count": 11,
   "metadata": {},
   "outputs": [
    {
     "name": "stdout",
     "output_type": "stream",
     "text": [
      "some interesting string with \"something\" inside \"\"\n"
     ]
    }
   ],
   "source": [
    "print('some interesting string with \"something\" inside \"\"')"
   ]
  },
  {
   "cell_type": "code",
   "execution_count": 12,
   "metadata": {},
   "outputs": [
    {
     "name": "stdout",
     "output_type": "stream",
     "text": [
      "some string with '' inside\n"
     ]
    }
   ],
   "source": [
    "print(\"some string with '' inside\")"
   ]
  },
  {
   "cell_type": "code",
   "execution_count": 13,
   "metadata": {},
   "outputs": [
    {
     "ename": "TypeError",
     "evalue": "'str' object does not support item assignment",
     "output_type": "error",
     "traceback": [
      "\u001b[0;31m---------------------------------------------------------------------------\u001b[0m",
      "\u001b[0;31mTypeError\u001b[0m                                 Traceback (most recent call last)",
      "\u001b[0;32m<ipython-input-13-6cb043759921>\u001b[0m in \u001b[0;36m<module>\u001b[0;34m()\u001b[0m\n\u001b[1;32m      1\u001b[0m \u001b[0mmyString\u001b[0m \u001b[0;34m=\u001b[0m \u001b[0;34m\"something\"\u001b[0m\u001b[0;34m\u001b[0m\u001b[0m\n\u001b[0;32m----> 2\u001b[0;31m \u001b[0mmyString\u001b[0m\u001b[0;34m[\u001b[0m\u001b[0;36m0\u001b[0m\u001b[0;34m]\u001b[0m \u001b[0;34m=\u001b[0m \u001b[0;34m\"f\"\u001b[0m \u001b[0;31m# this will not work\u001b[0m\u001b[0;34m\u001b[0m\u001b[0m\n\u001b[0m",
      "\u001b[0;31mTypeError\u001b[0m: 'str' object does not support item assignment"
     ]
    }
   ],
   "source": [
    "myString = \"something\"\n",
    "myString[0] = \"f\" # this will not work"
   ]
  },
  {
   "cell_type": "code",
   "execution_count": 14,
   "metadata": {},
   "outputs": [
    {
     "name": "stdout",
     "output_type": "stream",
     "text": [
      "29\n"
     ]
    }
   ],
   "source": [
    "print(len(some_long_string))\n"
   ]
  },
  {
   "cell_type": "code",
   "execution_count": 16,
   "metadata": {},
   "outputs": [
    {
     "name": "stdout",
     "output_type": "stream",
     "text": [
      "zing\n"
     ]
    }
   ],
   "source": [
    "bagin = \"bazinga\"\n",
    "print(bagin[2:6])"
   ]
  },
  {
   "cell_type": "code",
   "execution_count": 2,
   "metadata": {},
   "outputs": [
    {
     "name": "stdout",
     "output_type": "stream",
     "text": [
      "CAN YOU HEAR ME?\n"
     ]
    }
   ],
   "source": [
    "loudVoice = \"can you hear me?\"\n",
    "\n",
    "print(loudVoice.upper())\n"
   ]
  },
  {
   "cell_type": "code",
   "execution_count": 4,
   "metadata": {},
   "outputs": [
    {
     "name": "stdout",
     "output_type": "stream",
     "text": [
      "Hey, what's up?njds;\n",
      "You said: njds;\n"
     ]
    }
   ],
   "source": [
    "userInput = input(\"Hey, what's up?\")\n",
    "print(\"You said:\", userInput)"
   ]
  },
  {
   "cell_type": "code",
   "execution_count": 6,
   "metadata": {},
   "outputs": [
    {
     "name": "stdout",
     "output_type": "stream",
     "text": [
      "kefishuffle\n"
     ]
    }
   ],
   "source": [
    "my_string = \"kEfisHUFfle\"\n",
    "\n",
    "print(my_string.lower())"
   ]
  },
  {
   "cell_type": "code",
   "execution_count": 7,
   "metadata": {},
   "outputs": [
    {
     "name": "stdout",
     "output_type": "stream",
     "text": [
      "369\n"
     ]
    }
   ],
   "source": [
    "some_int_string = \"123\"\n",
    "some_int_from_string = int(some_int_string)\n",
    "print(some_int_from_string * 3)"
   ]
  },
  {
   "cell_type": "code",
   "execution_count": 8,
   "metadata": {},
   "outputs": [
    {
     "name": "stdout",
     "output_type": "stream",
     "text": [
      "84.4\n"
     ]
    }
   ],
   "source": [
    "some_float_string = \"42.2\"\n",
    "some_float_from_string = float(some_float_string)\n",
    "print(some_float_from_string * 2)"
   ]
  },
  {
   "cell_type": "code",
   "execution_count": 11,
   "metadata": {},
   "outputs": [
    {
     "name": "stdout",
     "output_type": "stream",
     "text": [
      "42.2 123\n"
     ]
    }
   ],
   "source": [
    "print(str(some_float_from_string), str(some_int_from_string))"
   ]
  },
  {
   "cell_type": "code",
   "execution_count": 13,
   "metadata": {},
   "outputs": [
    {
     "name": "stdout",
     "output_type": "stream",
     "text": [
      "Zaphod has 3 arms and 2 heads\n"
     ]
    }
   ],
   "source": [
    "name = \"Zaphod\"\n",
    "numHeadas = 2\n",
    "numArms = 3\n",
    "print(\"{} has {} arms and {} heads\".format(name, numArms, numHeadas))"
   ]
  },
  {
   "cell_type": "code",
   "execution_count": 19,
   "metadata": {},
   "outputs": [
    {
     "name": "stdout",
     "output_type": "stream",
     "text": [
      "0.2 kg is the weight of the newt\n",
      "0.2 kg is the weight of the newt\n",
      "0.2 kg is the weight of the newt\n",
      "0.2 kg is the weight of the newt\n"
     ]
    }
   ],
   "source": [
    "weight = 0.2\n",
    "animal = \"newt\"\n",
    "print(weight, \"kg is the weight of the\", animal)\n",
    "print(\"{} kg is the weight of the {}\".format(weight, animal))\n",
    "print(\"{0} kg is the weight of the {1}\".format(weight, animal))\n",
    "print(\"{weight} kg is the weight of the {animal}\".format(animal = \"newt\", weight = 0.2))"
   ]
  },
  {
   "cell_type": "code",
   "execution_count": 22,
   "metadata": {},
   "outputs": [
    {
     "name": "stdout",
     "output_type": "stream",
     "text": [
      "4\n",
      "-1\n"
     ]
    }
   ],
   "source": [
    "phrase = \"the surprise is in here somewhere\"\n",
    "print(phrase.find(\"surprise\"))\n",
    "print(phrase.find(\"Sur\"))"
   ]
  },
  {
   "cell_type": "code",
   "execution_count": 23,
   "metadata": {},
   "outputs": [
    {
     "name": "stdout",
     "output_type": "stream",
     "text": [
      "I'm telling you lies; he spoke nothing but lies!\n"
     ]
    }
   ],
   "source": [
    "myStory = \"I'm telling you the truth; he spoke nothing but the truth!\"\n",
    "print(myStory.replace(\"the truth\", \"lies\"))"
   ]
  },
  {
   "cell_type": "code",
   "execution_count": 25,
   "metadata": {},
   "outputs": [
    {
     "name": "stdout",
     "output_type": "stream",
     "text": [
      "8\n",
      "8\n"
     ]
    }
   ],
   "source": [
    "ver_str = \"version 2.0\"\n",
    "float_ver = 2.0 \n",
    "print(ver_str.find(str(float_ver)))\n",
    "print(ver_str.find(str(2.0)))"
   ]
  },
  {
   "cell_type": "code",
   "execution_count": 2,
   "metadata": {},
   "outputs": [
    {
     "name": "stdout",
     "output_type": "stream",
     "text": [
      "1 / 2 =  0\n",
      "1 / 2 =  0.5\n"
     ]
    }
   ],
   "source": [
    "print(\"1 / 2 = \", 1 // 2)\n",
    "print(\"1 / 2 = \", 1 / 2)"
   ]
  },
  {
   "cell_type": "code",
   "execution_count": 3,
   "metadata": {},
   "outputs": [],
   "source": [
    "def returnDifference(n1, n2):\n",
    "    '''Return the difference between two numbers.\n",
    "    Subtracts n2 from n1.'''\n",
    "    return n1 - n2"
   ]
  },
  {
   "cell_type": "code",
   "execution_count": 4,
   "metadata": {},
   "outputs": [
    {
     "name": "stdout",
     "output_type": "stream",
     "text": [
      "Help on function returnDifference in module __main__:\n",
      "\n",
      "returnDifference(n1, n2)\n",
      "    Return the difference between two numbers.\n",
      "    Subtracts n2 from n1.\n",
      "\n"
     ]
    }
   ],
   "source": [
    "help(returnDifference)"
   ]
  },
  {
   "cell_type": "code",
   "execution_count": 5,
   "metadata": {},
   "outputs": [
    {
     "name": "stdout",
     "output_type": "stream",
     "text": [
      "Help on built-in function print in module builtins:\n",
      "\n",
      "print(...)\n",
      "    print(value, ..., sep=' ', end='\\n', file=sys.stdout, flush=False)\n",
      "    \n",
      "    Prints the values to a stream, or to sys.stdout by default.\n",
      "    Optional keyword arguments:\n",
      "    file:  a file-like object (stream); defaults to the current sys.stdout.\n",
      "    sep:   string inserted between values, default a space.\n",
      "    end:   string appended after the last value, default a newline.\n",
      "    flush: whether to forcibly flush the stream.\n",
      "\n"
     ]
    }
   ],
   "source": [
    "help(print)"
   ]
  },
  {
   "cell_type": "code",
   "execution_count": 8,
   "metadata": {},
   "outputs": [
    {
     "name": "stdout",
     "output_type": "stream",
     "text": [
      "512\n",
      "8\n",
      "216\n"
     ]
    }
   ],
   "source": [
    "def cube(n1):\n",
    "    return n1 * n1 * n1\n",
    "\n",
    "print(cube(8)) \n",
    "print(cube(2))\n",
    "print(cube(6)) "
   ]
  },
  {
   "cell_type": "code",
   "execution_count": 11,
   "metadata": {},
   "outputs": [
    {
     "name": "stdout",
     "output_type": "stream",
     "text": [
      "result 2 * 5 = 10\n",
      "type of result <class 'int'>\n",
      "result 2.0 * 5 = 10.0\n",
      "type of result <class 'float'>\n"
     ]
    }
   ],
   "source": [
    "def multiply(n1, n2):\n",
    "    return n1 * n2\n",
    "\n",
    "some_multiply_result = multiply(2, 5)\n",
    "print(\"result 2 * 5 =\", some_multiply_result)\n",
    "print(\"type of result\", type(some_multiply_result))\n",
    "some_float_multiply_result = multiply(2.0, 5)\n",
    "print(\"result 2.0 * 5 =\", some_float_multiply_result)\n",
    "print(\"type of result\", type(some_float_multiply_result))"
   ]
  },
  {
   "cell_type": "code",
   "execution_count": 16,
   "metadata": {},
   "outputs": [
    {
     "name": "stdout",
     "output_type": "stream",
     "text": [
      "n =  1\n",
      "n =  2\n",
      "n =  3\n",
      "n =  4\n",
      "n =  5\n",
      "Loop finished!\n"
     ]
    }
   ],
   "source": [
    "n = 1\n",
    "while (n <= 5):\n",
    "    print(\"n = \", n)\n",
    "    n += 1\n",
    "print(\"Loop finished!\")"
   ]
  },
  {
   "cell_type": "code",
   "execution_count": 17,
   "metadata": {},
   "outputs": [
    {
     "name": "stdout",
     "output_type": "stream",
     "text": [
      "n = 1\n",
      "n = 2\n",
      "n = 3\n",
      "n = 4\n",
      "Loop finished!\n"
     ]
    }
   ],
   "source": [
    "for i in range(1, 5):\n",
    "    print(\"n =\", i)\n",
    "print(\"Loop finished!\")"
   ]
  },
  {
   "cell_type": "code",
   "execution_count": 19,
   "metadata": {},
   "outputs": [
    {
     "name": "stdout",
     "output_type": "stream",
     "text": [
      "n = 1 and j = a\n",
      "n = 1 and j = b\n",
      "n = 1 and j = c\n",
      "n = 1 and j = d\n",
      "n = 2 and j = a\n",
      "n = 2 and j = b\n",
      "n = 2 and j = c\n",
      "n = 2 and j = d\n",
      "n = 3 and j = a\n",
      "n = 3 and j = b\n",
      "n = 3 and j = c\n",
      "n = 3 and j = d\n"
     ]
    }
   ],
   "source": [
    "for n in range(1, 4):\n",
    "    for j in [\"a\", \"b\", \"c\", \"d\"]:\n",
    "        print(\"n =\", n, \"and j =\", j)"
   ]
  },
  {
   "cell_type": "code",
   "execution_count": 21,
   "metadata": {},
   "outputs": [
    {
     "name": "stdout",
     "output_type": "stream",
     "text": [
      "4\n",
      "8\n",
      "16\n",
      "6\n",
      "12\n",
      "24\n"
     ]
    }
   ],
   "source": [
    "def doubles(num_to_double):\n",
    "    buff = num_to_double\n",
    "    for i in range(1, 4):\n",
    "        buff = buff * 2\n",
    "        print(buff)\n",
    "doubles(2)\n",
    "doubles(3)"
   ]
  },
  {
   "cell_type": "code",
   "execution_count": 3,
   "metadata": {},
   "outputs": [
    {
     "data": {
      "text/plain": [
       "True"
      ]
     },
     "execution_count": 3,
     "metadata": {},
     "output_type": "execute_result"
    }
   ],
   "source": [
    "1 <= 1"
   ]
  },
  {
   "cell_type": "code",
   "execution_count": 2,
   "metadata": {},
   "outputs": [
    {
     "data": {
      "text/plain": [
       "False"
      ]
     },
     "execution_count": 2,
     "metadata": {},
     "output_type": "execute_result"
    }
   ],
   "source": [
    "1 != 1"
   ]
  },
  {
   "cell_type": "code",
   "execution_count": 4,
   "metadata": {},
   "outputs": [
    {
     "data": {
      "text/plain": [
       "True"
      ]
     },
     "execution_count": 4,
     "metadata": {},
     "output_type": "execute_result"
    }
   ],
   "source": [
    "\"good\" != \"bad\""
   ]
  },
  {
   "cell_type": "code",
   "execution_count": 5,
   "metadata": {},
   "outputs": [
    {
     "data": {
      "text/plain": [
       "False"
      ]
     },
     "execution_count": 5,
     "metadata": {},
     "output_type": "execute_result"
    }
   ],
   "source": [
    "123 == \"123\""
   ]
  },
  {
   "cell_type": "code",
   "execution_count": 3,
   "metadata": {},
   "outputs": [
    {
     "name": "stdout",
     "output_type": "stream",
     "text": [
      "There was no 'X' in phrase\n"
     ]
    }
   ],
   "source": [
    "phrase = \"it marks the spot\"\n",
    "for letter in phrase:\n",
    "    if letter == \"X\":\n",
    "        break\n",
    "else:\n",
    "    print(\"There was no 'X' in phrase\")"
   ]
  },
  {
   "cell_type": "code",
   "execution_count": 5,
   "metadata": {},
   "outputs": [
    {
     "name": "stdout",
     "output_type": "stream",
     "text": [
      "Password: I<3Bieber\n"
     ]
    }
   ],
   "source": [
    "tries = 0 \n",
    "while tries < 3:\n",
    "    password = input(\"Password: \")\n",
    "    if password == \"I<3Bieber\":\n",
    "        break\n",
    "    else:\n",
    "        tries += 1\n",
    "else:\n",
    "    print(\"Suspicious activity. The authorities have been alerted.\")"
   ]
  },
  {
   "cell_type": "code",
   "execution_count": 8,
   "metadata": {},
   "outputs": [
    {
     "name": "stdout",
     "output_type": "stream",
     "text": [
      "Input q or Q to quit the program: 3\n",
      "Input q or Q to quit the program: 4\n",
      "Input q or Q to quit the program: q\n"
     ]
    }
   ],
   "source": [
    "while True:\n",
    "    user_input_for_quit = input(\"Input q or Q to quit the program: \")\n",
    "    if user_input_for_quit == \"q\" or user_input_for_quit == \"Q\":\n",
    "        break"
   ]
  },
  {
   "cell_type": "code",
   "execution_count": 9,
   "metadata": {},
   "outputs": [
    {
     "name": "stdout",
     "output_type": "stream",
     "text": [
      "1\n",
      "2\n",
      "4\n",
      "5\n",
      "7\n",
      "8\n",
      "10\n",
      "11\n",
      "13\n",
      "14\n",
      "16\n",
      "17\n",
      "19\n",
      "20\n",
      "22\n",
      "23\n",
      "25\n",
      "26\n",
      "28\n",
      "29\n",
      "31\n",
      "32\n",
      "34\n",
      "35\n",
      "37\n",
      "38\n",
      "40\n",
      "41\n",
      "43\n",
      "44\n",
      "46\n",
      "47\n",
      "49\n"
     ]
    }
   ],
   "source": [
    "for i in range(1, 50):\n",
    "    if i % 3 == 0:\n",
    "        continue\n",
    "    else:\n",
    "        print(i)"
   ]
  },
  {
   "cell_type": "code",
   "execution_count": 15,
   "metadata": {},
   "outputs": [
    {
     "name": "stdout",
     "output_type": "stream",
     "text": [
      "Input integer: r\n",
      "try again\n",
      "Input integer: t\n",
      "try again\n",
      "Input integer: q\n",
      "try again\n",
      "Input integer: 5\n",
      "your integer is 5\n"
     ]
    }
   ],
   "source": [
    "while True:\n",
    "    try:\n",
    "        user_input_integer = int(input('Input integer: '))\n",
    "        print(\"your integer is {}\".format(user_input_integer))\n",
    "        break\n",
    "    except ValueError:\n",
    "        print(\"try again\")\n",
    "        \n",
    "    "
   ]
  },
  {
   "cell_type": "markdown",
   "metadata": {},
   "source": [
    "### 5.6) Simulate events and calculate probabilities"
   ]
  },
  {
   "cell_type": "code",
   "execution_count": 21,
   "metadata": {},
   "outputs": [
    {
     "name": "stdout",
     "output_type": "stream",
     "text": [
      "heads / tails = 0.9737072743207712\n"
     ]
    }
   ],
   "source": [
    "from random import randint\n",
    "\n",
    "tails = 0\n",
    "heads = 0\n",
    "\n",
    "for trials in range(1, 10000):\n",
    "    while randint(0, 1) == 0:\n",
    "        tails += 1\n",
    "    heads += 1\n",
    "print(\"{} heads, {} tails were in \"{})\n",
    "print(\"heads / tails =\", heads / tails)"
   ]
  },
  {
   "cell_type": "markdown",
   "metadata": {},
   "source": [
    "Write a script that uses the randint() function to simulate the toss of a\n",
    "die, returning a random number between 1 and 6"
   ]
  },
  {
   "cell_type": "code",
   "execution_count": 13,
   "metadata": {},
   "outputs": [],
   "source": [
    "from random import randint\n",
    "\n",
    "def tos_die(n_faces):\n",
    "    '''function for simulating the toss of a die with n faces'''\n",
    "    return randint(1, n_faces)\n",
    "\n"
   ]
  },
  {
   "cell_type": "code",
   "execution_count": 15,
   "metadata": {},
   "outputs": [
    {
     "name": "stdout",
     "output_type": "stream",
     "text": [
      "3\n",
      "5\n",
      "3\n"
     ]
    }
   ],
   "source": [
    "rand_int = tos_die(5)\n",
    "print(rand_int)\n",
    "print(tos_die(5))\n",
    "print(randint(1,6))"
   ]
  },
  {
   "cell_type": "markdown",
   "metadata": {},
   "source": [
    "Write a script that simulates 10,000 throws of dice and displays the average\n",
    "number resulting from these tosses"
   ]
  },
  {
   "cell_type": "code",
   "execution_count": 19,
   "metadata": {},
   "outputs": [
    {
     "name": "stdout",
     "output_type": "stream",
     "text": [
      "34903\n",
      " float average number of 10000 throws: 3.4903\n"
     ]
    }
   ],
   "source": [
    "buff = 0 \n",
    "for i in range(1, 10000):\n",
    "    buff += tos_die(6)\n",
    "print(buff)\n",
    "ave_num_of_throws = buff / 10000\n",
    "print(\" float average number of 10000 throws:\", ave_num_of_throws)"
   ]
  },
  {
   "cell_type": "code",
   "execution_count": null,
   "metadata": {},
   "outputs": [],
   "source": []
  }
 ],
 "metadata": {
  "kernelspec": {
   "display_name": "Python 3",
   "language": "python",
   "name": "python3"
  },
  "language_info": {
   "codemirror_mode": {
    "name": "ipython",
    "version": 3
   },
   "file_extension": ".py",
   "mimetype": "text/x-python",
   "name": "python",
   "nbconvert_exporter": "python",
   "pygments_lexer": "ipython3",
   "version": "3.7.0"
  }
 },
 "nbformat": 4,
 "nbformat_minor": 2
}
