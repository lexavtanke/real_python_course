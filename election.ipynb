{
 "cells": [
  {
   "cell_type": "markdown",
   "metadata": {},
   "source": [
    "Write a script “election.py” that will simulate an election between two\n",
    "candidates, A and B. One of the candidates wins the overall election by a\n",
    "majority based on the outcomes of three regional elections. (In other words, a\n",
    "candidate wins the overall election by winning at least two regional elections.)         \n",
    "     \n",
    "Candidate A has the following odds:  \n",
    "-87% chance of winning region 1  \n",
    "-65% chance of winning region 2      \n",
    "17% chance of winning region 3  \n",
    "  \n",
    "Import and use the random() function from the random module to simulate events\n",
    "based on probabilities; this function doesn't take any arguments (meaning you don't\n",
    "pass it any input variables) and returns a random value somewhere between 0 and 1.  \n",
    "\n",
    "Simulate 10,000 such elections, then (based on the average results) display the\n",
    "probability that Candidate A will win and the probability that Candidate B will win.  \n",
    "  \n",
    "If you want to check your work without looking at the sample script, the answer is\n",
    "in this footnote. \n",
    "\n",
    "Hint: To do this, you'll probably need to use a for loop with a lot of if/else\n",
    "statements to check the results of each regional election."
   ]
  },
  {
   "cell_type": "code",
   "execution_count": null,
   "metadata": {},
   "outputs": [],
   "source": [
    "\n"
   ]
  },
  {
   "cell_type": "code",
   "execution_count": null,
   "metadata": {},
   "outputs": [],
   "source": []
  }
 ],
 "metadata": {
  "kernelspec": {
   "display_name": "Python 3",
   "language": "python",
   "name": "python3"
  },
  "language_info": {
   "codemirror_mode": {
    "name": "ipython",
    "version": 3
   },
   "file_extension": ".py",
   "mimetype": "text/x-python",
   "name": "python",
   "nbconvert_exporter": "python",
   "pygments_lexer": "ipython3",
   "version": "3.7.0"
  }
 },
 "nbformat": 4,
 "nbformat_minor": 2
}
