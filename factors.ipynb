{
 "cells": [
  {
   "cell_type": "code",
   "execution_count": 11,
   "metadata": {},
   "outputs": [
    {
     "name": "stdout",
     "output_type": "stream",
     "text": [
      "Enter an integer12\n",
      "1 is a divisor of 12\n",
      "2 is a divisor of 12\n",
      "3 is a divisor of 12\n",
      "4 is a divisor of 12\n",
      "6 is a divisor of 12\n",
      "12 is a divisor of 12\n"
     ]
    }
   ],
   "source": [
    "int_from_user = int(input(\"Enter an integer\"))\n",
    "for i in range(1, int_from_user + 1):\n",
    "    if int(int_from_user) % i == 0:\n",
    "        print(\"{} is a divisor of {}\".format( str(i), str(int_from_user)))\n",
    "        \n"
   ]
  },
  {
   "cell_type": "code",
   "execution_count": null,
   "metadata": {},
   "outputs": [],
   "source": []
  }
 ],
 "metadata": {
  "kernelspec": {
   "display_name": "Python 3",
   "language": "python",
   "name": "python3"
  },
  "language_info": {
   "codemirror_mode": {
    "name": "ipython",
    "version": 3
   },
   "file_extension": ".py",
   "mimetype": "text/x-python",
   "name": "python",
   "nbconvert_exporter": "python",
   "pygments_lexer": "ipython3",
   "version": "3.7.0"
  }
 },
 "nbformat": 4,
 "nbformat_minor": 2
}
