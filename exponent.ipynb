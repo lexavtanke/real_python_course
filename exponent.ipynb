{
 "cells": [
  {
   "cell_type": "code",
   "execution_count": 6,
   "metadata": {},
   "outputs": [
    {
     "name": "stdout",
     "output_type": "stream",
     "text": [
      "Enter a base:1.2\n",
      "Enter an exponent:3\n",
      "1.2 in a power of 3 = 1.728\n"
     ]
    }
   ],
   "source": [
    "user_base = input(\"Enter a base:\")\n",
    "user_expo = input(\"Enter an exponent:\")\n",
    "print('{} in a power of {} = {}'.format(user_base, user_expo, round(float(user_base) ** float(user_expo), 3)))"
   ]
  },
  {
   "cell_type": "code",
   "execution_count": 7,
   "metadata": {},
   "outputs": [],
   "source": [
    "def returnDifference(n1, n2):\n",
    "    '''Return the difference between two numbers.\n",
    "    Subtracts n2 from n1.'''\n",
    "    return n1 - n2"
   ]
  },
  {
   "cell_type": "code",
   "execution_count": 8,
   "metadata": {},
   "outputs": [
    {
     "name": "stdout",
     "output_type": "stream",
     "text": [
      "Help on function returnDifference in module __main__:\n",
      "\n",
      "returnDifference(n1, n2)\n",
      "    Return the difference between two numbers.\n",
      "    Subtracts n2 from n1.\n",
      "\n"
     ]
    }
   ],
   "source": [
    "help(returnDifference)"
   ]
  },
  {
   "cell_type": "code",
   "execution_count": null,
   "metadata": {},
   "outputs": [],
   "source": []
  }
 ],
 "metadata": {
  "kernelspec": {
   "display_name": "Python 3",
   "language": "python",
   "name": "python3"
  },
  "language_info": {
   "codemirror_mode": {
    "name": "ipython",
    "version": 3
   },
   "file_extension": ".py",
   "mimetype": "text/x-python",
   "name": "python",
   "nbconvert_exporter": "python",
   "pygments_lexer": "ipython3",
   "version": "3.7.0"
  }
 },
 "nbformat": 4,
 "nbformat_minor": 2
}
