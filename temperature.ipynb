{
 "cells": [
  {
   "cell_type": "code",
   "execution_count": 1,
   "metadata": {},
   "outputs": [],
   "source": [
    "def celsius_to_fahrenheit(temp_in_C):\n",
    "    return temp_in_C * 9 / 5 + 32 \n",
    "\n",
    "def fahrenheit_to_celsius(temp_in_F):\n",
    "    return (temp_in_F - 32 ) * 5 / 9 \n",
    "    "
   ]
  },
  {
   "cell_type": "code",
   "execution_count": 4,
   "metadata": {},
   "outputs": [
    {
     "name": "stdout",
     "output_type": "stream",
     "text": [
      "72 degrees F in = 22.22 degrees in C\n",
      "37 degrees C in = 98.6 degrees in F\n"
     ]
    }
   ],
   "source": [
    "print(\"{} degrees F in = {} degrees in C\".format(72, round(fahrenheit_to_celsius(72), 2)))\n",
    "print(\"{} degrees C in = {} degrees in F\".format(37, round(celsius_to_fahrenheit(37), 2)))"
   ]
  },
  {
   "cell_type": "code",
   "execution_count": null,
   "metadata": {},
   "outputs": [],
   "source": []
  }
 ],
 "metadata": {
  "kernelspec": {
   "display_name": "Python 3",
   "language": "python",
   "name": "python3"
  },
  "language_info": {
   "codemirror_mode": {
    "name": "ipython",
    "version": 3
   },
   "file_extension": ".py",
   "mimetype": "text/x-python",
   "name": "python",
   "nbconvert_exporter": "python",
   "pygments_lexer": "ipython3",
   "version": "3.7.0"
  }
 },
 "nbformat": 4,
 "nbformat_minor": 2
}
