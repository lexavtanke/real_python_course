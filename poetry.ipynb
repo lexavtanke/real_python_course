{
 "cells": [
  {
   "cell_type": "code",
   "execution_count": 13,
   "metadata": {},
   "outputs": [
    {
     "name": "stdout",
     "output_type": "stream",
     "text": [
      "An exuberant judge bounces against the incredulous fossil extravagantly, the judge slurps the fossil     bounces like a exuberant gorilla\n"
     ]
    }
   ],
   "source": [
    "from random import choice\n",
    "\n",
    "def makePoem():\n",
    "    \n",
    "    nouns = [\"fossil\", \"horse\", \"aardvark\", \"judge\", \"chef\", \"mango\", \"extrovert\", \"gorilla\"]\n",
    "    verbs = [\"kicks\", \"jingles\", \"bounces\", \"slurps\", \"meows\", \"explodes\", \"curdles\"]\n",
    "    adjectives = [\"furry\", \"baldings\", \"incredulous\", \"fragrant\", \"exuberant\", \"glistening\"]\n",
    "    prepositions = [\"against\", \"after\", \"into\", \"beneath\", \"upon\", \"for\", \"in\", \"like\", \"over\", \"within\"]\n",
    "    adverbs = [\"curiously\", \"extravagantly\", \"tantalizingly\", \"furiously\", \"sensuously\"]\n",
    "    \n",
    "    adjective1 = choice(adjectives)\n",
    "    adjective2 = choice(adjectives)\n",
    "    \n",
    "    while adjective2 == adjective1:\n",
    "        adjective2 = choice(adjectives)\n",
    "    \n",
    "    adjective3 = choice(adjectives)\n",
    "    \n",
    "    while adjective2 == adjective3:\n",
    "        adjective3 = choice(adjectives)\n",
    "    \n",
    "    noun1 = choice(nouns)\n",
    "    noun2 = choice(nouns)\n",
    "    \n",
    "    while noun1 == noun2:\n",
    "        noun2 = choice(nouns)\n",
    "    \n",
    "    noun3 = choice(nouns)\n",
    "    \n",
    "    while noun2 == noun3:\n",
    "        noun3 = choice(nouns)\n",
    "    \n",
    "    verb1 = choice(verbs)\n",
    "    verb2 = choice(verbs)\n",
    "    \n",
    "    while verb1 == verb2:\n",
    "        verb2 = choice(verbs)\n",
    "        \n",
    "    verb3 = choice(verbs)\n",
    "    \n",
    "    while verb2 == verb3:\n",
    "        verb3 = choice(verbs)\n",
    "    \n",
    "    adverb1 = choice(adverbs)\n",
    "    preposition1 = choice(prepositions)\n",
    "    preposition2 = choice(prepositions)\n",
    "    \n",
    "    while preposition1 == preposition2:\n",
    "        preposition2 = choice(prepositions)\n",
    "        \n",
    "    a_an = \"A\"\n",
    "    vowel_tuple = ('a', 'e', 'i', 'o', 'i', 'u')\n",
    "    if adjective1[0] in vowel_tuple:\n",
    "        a_an = \"An\"\n",
    "        \n",
    "    poemString = \"{0} {1} {2} {3} {4} the {5} {6} {7}, the {8} {9} the {10} \\\n",
    "    {11} {12} a {13} {14}\".format(a_an, adjective1, noun1, verb1, preposition1, adjective2, noun2, \\\n",
    "                        adverb1, noun1, verb2, noun2, verb3, preposition2, adjective3, noun3)\n",
    "\n",
    "    return poemString\n",
    "\n",
    "\n",
    "\n",
    "print(makePoem())\n",
    "        "
   ]
  },
  {
   "cell_type": "code",
   "execution_count": null,
   "metadata": {},
   "outputs": [],
   "source": []
  },
  {
   "cell_type": "code",
   "execution_count": null,
   "metadata": {},
   "outputs": [],
   "source": []
  }
 ],
 "metadata": {
  "kernelspec": {
   "display_name": "Python 3",
   "language": "python",
   "name": "python3"
  },
  "language_info": {
   "codemirror_mode": {
    "name": "ipython",
    "version": 3
   },
   "file_extension": ".py",
   "mimetype": "text/x-python",
   "name": "python",
   "nbconvert_exporter": "python",
   "pygments_lexer": "ipython3",
   "version": "3.7.0"
  }
 },
 "nbformat": 4,
 "nbformat_minor": 2
}
